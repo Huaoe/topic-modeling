{
 "cells": [
  {
   "cell_type": "code",
   "execution_count": 1,
   "id": "bd3660d1",
   "metadata": {},
   "outputs": [
    {
     "ename": "ModuleNotFoundError",
     "evalue": "No module named 'spacy'",
     "output_type": "error",
     "traceback": [
      "\u001b[31m---------------------------------------------------------------------------\u001b[39m",
      "\u001b[31mModuleNotFoundError\u001b[39m                       Traceback (most recent call last)",
      "\u001b[36mCell\u001b[39m\u001b[36m \u001b[39m\u001b[32mIn[1]\u001b[39m\u001b[32m, line 2\u001b[39m\n\u001b[32m      1\u001b[39m \u001b[38;5;28;01mimport\u001b[39;00m\u001b[38;5;250m \u001b[39m\u001b[34;01mpandas\u001b[39;00m\u001b[38;5;250m \u001b[39m\u001b[38;5;28;01mas\u001b[39;00m\u001b[38;5;250m \u001b[39m\u001b[34;01mpd\u001b[39;00m\n\u001b[32m----> \u001b[39m\u001b[32m2\u001b[39m \u001b[38;5;28;01mimport\u001b[39;00m\u001b[38;5;250m \u001b[39m\u001b[34;01mspacy\u001b[39;00m\n\u001b[32m      3\u001b[39m \u001b[38;5;28;01mfrom\u001b[39;00m\u001b[38;5;250m \u001b[39m\u001b[34;01msklearn\u001b[39;00m\u001b[34;01m.\u001b[39;00m\u001b[34;01mpipeline\u001b[39;00m\u001b[38;5;250m \u001b[39m\u001b[38;5;28;01mimport\u001b[39;00m Pipeline\n\u001b[32m      4\u001b[39m \u001b[38;5;28;01mfrom\u001b[39;00m\u001b[38;5;250m \u001b[39m\u001b[34;01msklearn\u001b[39;00m\u001b[34;01m.\u001b[39;00m\u001b[34;01mfeature_extraction\u001b[39;00m\u001b[34;01m.\u001b[39;00m\u001b[34;01mtext\u001b[39;00m\u001b[38;5;250m \u001b[39m\u001b[38;5;28;01mimport\u001b[39;00m CountVectorizer\n",
      "\u001b[31mModuleNotFoundError\u001b[39m: No module named 'spacy'"
     ]
    }
   ],
   "source": [
    "import pandas as pd\n",
    "import spacy\n",
    "from sklearn.pipeline import Pipeline\n",
    "from sklearn.feature_extraction.text import CountVectorizer\n",
    "from sklearn.decomposition import LatentDirichletAllocation\n",
    "from sklearn import set_config\n",
    "from sklearn.base import BaseEstimator, TransformerMixin\n",
    "\n",
    "# Activer l'affichage visuel\n",
    "set_config(display='diagram')\n",
    "\n",
    "# Exemple de corpus utilisateur\n",
    "texts = [\n",
    "    \"Emmanuel Macron est le président de la République Française, il est né à Amiens.\",\n",
    "    \"Marine Le Pen est une femme politique française membre du Rassemblement national.\",\n",
    "    \"Jean-Luc Mélenchon est le fondateur de La France Insoumise.\",\n",
    "    \"Éric Zemmour a fondé le parti Reconquête.\"\n",
    "]\n",
    "\n",
    "# Charger SpaCy\n",
    "nlp = spacy.load(\"fr_core_news_sm\")\n",
    "\n",
    "# Transformer spaCy → Liste de lemmes propres\n",
    "class SpacyPreprocessor(BaseEstimator, TransformerMixin):\n",
    "    def __init__(self, allowed_pos=[\"NOUN\", \"PROPN\", \"ADJ\"]):\n",
    "        self.allowed_pos = allowed_pos\n",
    "\n",
    "    def fit(self, X, y=None):\n",
    "        return self\n",
    "\n",
    "    def transform(self, X):\n",
    "        docs = list(nlp.pipe(X))\n",
    "        lemmatized_docs = []\n",
    "        for doc in docs:\n",
    "            tokens = [\n",
    "                token.lemma_.lower()\n",
    "                for token in doc\n",
    "                if token.pos_ in self.allowed_pos and not token.is_stop and token.is_alpha\n",
    "            ]\n",
    "            lemmatized_docs.append(\" \".join(tokens))\n",
    "        return lemmatized_docs\n",
    "\n",
    "# Pipeline complet\n",
    "topic_pipeline = Pipeline([\n",
    "    (\"spacy_preprocessing\", SpacyPreprocessor()),\n",
    "    (\"vectorizer\", CountVectorizer(max_df=0.95, min_df=2)),\n",
    "    (\"lda\", LatentDirichletAllocation(n_components=2, random_state=42))\n",
    "])\n",
    "\n",
    "# Visualisation graphique du pipeline\n",
    "topic_pipeline"
   ]
  }
 ],
 "metadata": {
  "kernelspec": {
   "display_name": ".venv",
   "language": "python",
   "name": "python3"
  },
  "language_info": {
   "codemirror_mode": {
    "name": "ipython",
    "version": 3
   },
   "file_extension": ".py",
   "mimetype": "text/x-python",
   "name": "python",
   "nbconvert_exporter": "python",
   "pygments_lexer": "ipython3",
   "version": "3.12.10"
  }
 },
 "nbformat": 4,
 "nbformat_minor": 5
}
